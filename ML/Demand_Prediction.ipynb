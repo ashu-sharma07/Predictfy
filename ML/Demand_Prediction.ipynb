{
 "cells": [
  {
   "cell_type": "code",
   "execution_count": 2,
   "id": "a77b2568",
   "metadata": {},
   "outputs": [],
   "source": [
    "import numpy as np\n",
    "import pandas as pd"
   ]
  },
  {
   "cell_type": "code",
   "execution_count": null,
   "id": "2c1ed3df",
   "metadata": {},
   "outputs": [],
   "source": [
    "dataset = pd.read_csv(\"..\\AgriTech_Dataset.csv\")\n",
    "X = dataset.iloc[:, 1:-1].values\n",
    "y = dataset.iloc[:, -1].values"
   ]
  },
  {
   "cell_type": "code",
   "execution_count": null,
   "id": "602c9e9d",
   "metadata": {},
   "outputs": [],
   "source": [
    "from sklearn.model_selection import train_test_split\n",
    "X_train, X_test, y_train, y_test = train_test_split(X, y, test_size = 0.2, random_state = 42)"
   ]
  },
  {
   "cell_type": "code",
   "execution_count": null,
   "id": "c03e20f1",
   "metadata": {},
   "outputs": [],
   "source": [
    "def price_predict(Item,State,Weekend,Grade,Organic,RPS,DFD,Freshness,Seasonal,Otipy_certified,Unique_Customors,Price):\n",
    "    from sklearn.preprocessing import PolynomialFeatures\n",
    "    from sklearn.linear_model import LinearRegression\n",
    "    poly_reg = PolynomialFeatures(degree = 4)\n",
    "    X_poly = poly_reg.fit_transform(X_train)\n",
    "    regressor = LinearRegression()\n",
    "    regressor.fit(X_poly, y_train)\n",
    "    X_test = [[Item,State,Weekend,Grade,Organic,RPS,DFD,Freshness,Seasonal,Otipy_certified,Unique_Customors,Price]]\n",
    "    y_pred = regressor.predict(poly_reg.transform(X_test))\n",
    "    prediction = {\n",
    "        \"Item\" : Item,\n",
    "        \"State\" : State,\n",
    "        \"Weekend\" : Weekend, \n",
    "        \"Grade\" : Grade,\n",
    "        \"Organic\" : Organic,\n",
    "        \"RPS\" : RPS,\n",
    "        \"DFD\" : DFD,\n",
    "        \"Freshness\" : Freshness,\n",
    "        \"Seasonal\" : Seasonal,\n",
    "        \"Otipy_Certified\" : Otipy_certified,\n",
    "        \"Unique_Customers\" : Unique_Customors,\n",
    "        \"Price\" : Price,\n",
    "        \"Demand_Predicted\" : round(y_pred[0],2)\n",
    "    }\n",
    "    return prediction\n",
    "    "
   ]
  }
 ],
 "metadata": {
  "kernelspec": {
   "display_name": "Python 3 (ipykernel)",
   "language": "python",
   "name": "python3"
  },
  "language_info": {
   "codemirror_mode": {
    "name": "ipython",
    "version": 3
   },
   "file_extension": ".py",
   "mimetype": "text/x-python",
   "name": "python",
   "nbconvert_exporter": "python",
   "pygments_lexer": "ipython3",
   "version": "3.10.6"
  }
 },
 "nbformat": 4,
 "nbformat_minor": 5
}
