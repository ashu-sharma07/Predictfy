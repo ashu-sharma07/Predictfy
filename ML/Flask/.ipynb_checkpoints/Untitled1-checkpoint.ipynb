{
 "cells": [
  {
   "cell_type": "code",
   "execution_count": 1,
   "id": "626556e7",
   "metadata": {},
   "outputs": [],
   "source": [
    "import numpy\n",
    "from flask import Flask, request, jsonify, render_template\n",
    "import pickle"
   ]
  },
  {
   "cell_type": "code",
   "execution_count": null,
   "id": "eab91900",
   "metadata": {},
   "outputs": [],
   "source": [
    "flask_app = Flask(__name__)\n",
    "price_model = pickle.load(open(\"Price_Prediction.pkl\", \"rb\"))\n",
    "demand_model = pickle.load(open(\"Demand_Prediction.pkl\", \"rb\"))\n",
    "price_and_demand_model = pickle.load(open(\"Price_and_Demand_Prediction.pkl\", \"rb\"))"
   ]
  },
  {
   "cell_type": "code",
   "execution_count": null,
   "id": "df413901",
   "metadata": {},
   "outputs": [],
   "source": [
    "@flask_app.route(\"/predict_price\", methods = [\"POST\"])\n",
    "def predict_price():\n",
    "    float_features = [float(x) for x in request.form.values()]\n",
    "    features = [np.array(float_features)]\n",
    "    prediction = price_model.predict(features)\n",
    "    return render_template(\"ENTER HTML FILE NAME HERE\", prediction_text = f\"{round(y_pred[0],2)}\")\n"
   ]
  },
  {
   "cell_type": "code",
   "execution_count": null,
   "id": "676c992a",
   "metadata": {},
   "outputs": [],
   "source": [
    "@flask_app.route(\"/predict_demand\", methods = [\"POST\"])\n",
    "def predict_demand():\n",
    "    float_features = [float(x) for x in request.form.values()]\n",
    "    features = [np.array(float_features)]\n",
    "    prediction = price_model.predict(features)\n",
    "    return render_template(\"ENTER HTML FILE NAME HERE\", prediction_text = f\"{round(y_pred[0],2)}\")\n"
   ]
  },
  {
   "cell_type": "code",
   "execution_count": null,
   "id": "7dd367b5",
   "metadata": {},
   "outputs": [],
   "source": [
    "@flask_app.route(\"/predict_price_and_demand\", methods = [\"POST\"])\n",
    "def predict_price_and_demand():\n",
    "    float_features = [float(x) for x in request.form.values()]\n",
    "    features = [np.array(float_features)]\n",
    "    prediction = price_model.predict(features)\n",
    "    return render_template(\"ENTER HTML FILE NAME HERE\", prediction_text = f\"Price: {round(y_pred[0,1],2)}, Demand: {round(y_pred[0,0],2)} \")\n"
   ]
  },
  {
   "cell_type": "code",
   "execution_count": null,
   "id": "2e117aa7",
   "metadata": {},
   "outputs": [],
   "source": [
    "if __name__ == \"__main__\":\n",
    "    flask_app.run(debug=True)"
   ]
  }
 ],
 "metadata": {
  "kernelspec": {
   "display_name": "Python 3 (ipykernel)",
   "language": "python",
   "name": "python3"
  },
  "language_info": {
   "codemirror_mode": {
    "name": "ipython",
    "version": 3
   },
   "file_extension": ".py",
   "mimetype": "text/x-python",
   "name": "python",
   "nbconvert_exporter": "python",
   "pygments_lexer": "ipython3",
   "version": "3.10.6"
  }
 },
 "nbformat": 4,
 "nbformat_minor": 5
}
